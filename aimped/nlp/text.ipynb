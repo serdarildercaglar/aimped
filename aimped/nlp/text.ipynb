{
 "cells": [
  {
   "cell_type": "code",
   "execution_count": 4,
   "metadata": {},
   "outputs": [
    {
     "name": "stderr",
     "output_type": "stream",
     "text": [
      "[nltk_data] Downloading package punkt to /home/forest/nltk_data...\n",
      "[nltk_data]   Package punkt is already up-to-date!\n"
     ]
    },
    {
     "data": {
      "text/plain": [
       "True"
      ]
     },
     "execution_count": 4,
     "metadata": {},
     "output_type": "execute_result"
    }
   ],
   "source": [
    "import nltk\n",
    "nltk.download('punkt')"
   ]
  },
  {
   "cell_type": "code",
   "execution_count": 5,
   "metadata": {},
   "outputs": [],
   "source": [
    "from translation_context import process_text"
   ]
  },
  {
   "cell_type": "code",
   "execution_count": 6,
   "metadata": {},
   "outputs": [],
   "source": [
    "text = \"Introduction: Polysubstance use of substances at the same time or close in time is a common practice among people who use drugs. The recent rise in mortality and overdose associated with polysubstance use makes understanding the current motivations underlying this pattern critical. The objective of this review was to synthesize current knowledge of the reasons for combining substances in a single defined episode of drug use.\"\n",
    "text1 = \"Human papillomavirus (HPV) is known to cause genital warts, cervical cancer, penile cancer, anal cancer and oropharyngeal cancer. In North America, the lifetime cumulative incidence of HPV infection is estimated at more than 70% for all HPV types combined. A safe and effective vaccine against nine HPV types is available. HPV vaccine should be administered routinely to all girls and boys between the ages of 9 and 13 years of age. All youth who have not received the vaccine in a routine program should receive the vaccine in a 'catch-up' program. Physicians caring for children and youth should advocate for funding and implementation of universal HPV vaccine programs.\"\n",
    "text3 = f\"{text} \\n\\n {text1}\""
   ]
  },
  {
   "cell_type": "code",
   "execution_count": 18,
   "metadata": {},
   "outputs": [
    {
     "data": {
      "text/plain": [
       "108"
      ]
     },
     "execution_count": 18,
     "metadata": {},
     "output_type": "execute_result"
    }
   ],
   "source": [
    "len(text1.split())"
   ]
  },
  {
   "cell_type": "code",
   "execution_count": 12,
   "metadata": {},
   "outputs": [],
   "source": [
    "result = process_text(text3, language=\"english\")"
   ]
  },
  {
   "cell_type": "code",
   "execution_count": 16,
   "metadata": {},
   "outputs": [
    {
     "data": {
      "text/plain": [
       "[' Human papillomavirus (HPV) is known to cause genital warts, cervical cancer, penile cancer, anal cancer and oropharyngeal cancer. In North America, the lifetime cumulative incidence of HPV infection is estimated at more than 70% for all HPV types combined. A safe and effective vaccine against nine HPV types is available.',\n",
       " \"HPV vaccine should be administered routinely to all girls and boys between the ages of 9 and 13 years of age. All youth who have not received the vaccine in a routine program should receive the vaccine in a 'catch-up' program. Physicians caring for children and youth should advocate for funding and implementation of universal HPV vaccine programs.\"]"
      ]
     },
     "execution_count": 16,
     "metadata": {},
     "output_type": "execute_result"
    }
   ],
   "source": [
    "result[1]"
   ]
  },
  {
   "cell_type": "code",
   "execution_count": 7,
   "metadata": {},
   "outputs": [
    {
     "data": {
      "text/plain": [
       "['The quick brown fox jumps over the lazy dog. If this were a real emergency, you would be instructed where to go and what to do. If this were a real emergency, you would be instructed where to go and what to do. If this were a real emergency, you would be instructed where to go and what to do.',\n",
       " 'If this were a real emergency, you would be instructed where to go and what to do. If this were a real emergency, you would be instructed where to go and what to do.']"
      ]
     },
     "execution_count": 7,
     "metadata": {},
     "output_type": "execute_result"
    }
   ],
   "source": [
    "result[\"content\"][0][0][0]"
   ]
  },
  {
   "cell_type": "code",
   "execution_count": 1,
   "metadata": {},
   "outputs": [],
   "source": [
    "import re\n",
    "from nltk.tokenize import sent_tokenize, word_tokenize\n",
    "\n",
    "def split_text_into_paragraphs(text):\n",
    "    return text.split('\\n\\n')\n",
    "\n",
    "def split_paragraphs_into_sentences(paragraphs, language):\n",
    "    paragraphs_sentences = []\n",
    "    for paragraph in paragraphs:\n",
    "        sentences = sent_tokenize(paragraph, language=language)\n",
    "        paragraphs_sentences.append(sentences)\n",
    "    return paragraphs_sentences\n",
    "\n",
    "def concat_sentences(sentences, max_words=80):\n",
    "    concatenated_sentences = []\n",
    "    current_concat = []\n",
    "    current_word_count = 0\n",
    "\n",
    "    for sentence in sentences:\n",
    "        sentence_word_count = len(word_tokenize(sentence))\n",
    "        if current_word_count + sentence_word_count <= max_words:\n",
    "            current_concat.append(sentence)\n",
    "            current_word_count += sentence_word_count\n",
    "        else:\n",
    "            concatenated_sentences.append(' '.join(current_concat))\n",
    "            current_concat = [sentence]\n",
    "            current_word_count = sentence_word_count\n",
    "\n",
    "    if current_concat:\n",
    "        concatenated_sentences.append(' '.join(current_concat))\n",
    "    concatenated_sentences = [sentence for sentence in concatenated_sentences if sentence]\n",
    "    return concatenated_sentences\n",
    "\n",
    "def process_text(text, language):\n",
    "    paragraphs = split_text_into_paragraphs(text)\n",
    "    paragraphs_sentences = split_paragraphs_into_sentences(paragraphs, language=language)\n",
    "    all_concatenated_sentences = []\n",
    "\n",
    "    for sentences in paragraphs_sentences:\n",
    "        concatenated_sentences = concat_sentences(sentences)\n",
    "        all_concatenated_sentences.append(concatenated_sentences)\n",
    "\n",
    "    return all_concatenated_sentences"
   ]
  },
  {
   "cell_type": "code",
   "execution_count": 9,
   "metadata": {},
   "outputs": [
    {
     "ename": "AttributeError",
     "evalue": "'list' object has no attribute 'split'",
     "output_type": "error",
     "traceback": [
      "\u001b[0;31m---------------------------------------------------------------------------\u001b[0m",
      "\u001b[0;31mAttributeError\u001b[0m                            Traceback (most recent call last)",
      "Cell \u001b[0;32mIn[9], line 1\u001b[0m\n\u001b[0;32m----> 1\u001b[0m a \u001b[38;5;241m=\u001b[39m \u001b[43mprocess_text\u001b[49m\u001b[43m(\u001b[49m\u001b[43m[\u001b[49m\u001b[43mparagraph_1\u001b[49m\u001b[43m]\u001b[49m\u001b[43m,\u001b[49m\u001b[43m \u001b[49m\u001b[38;5;124;43m'\u001b[39;49m\u001b[38;5;124;43menglish\u001b[39;49m\u001b[38;5;124;43m'\u001b[39;49m\u001b[43m)\u001b[49m\n",
      "Cell \u001b[0;32mIn[1], line 35\u001b[0m, in \u001b[0;36mprocess_text\u001b[0;34m(text, language)\u001b[0m\n\u001b[1;32m     34\u001b[0m \u001b[38;5;28;01mdef\u001b[39;00m \u001b[38;5;21mprocess_text\u001b[39m(text, language):\n\u001b[0;32m---> 35\u001b[0m     paragraphs \u001b[38;5;241m=\u001b[39m \u001b[43msplit_text_into_paragraphs\u001b[49m\u001b[43m(\u001b[49m\u001b[43mtext\u001b[49m\u001b[43m)\u001b[49m\n\u001b[1;32m     36\u001b[0m     paragraphs_sentences \u001b[38;5;241m=\u001b[39m split_paragraphs_into_sentences(paragraphs, language\u001b[38;5;241m=\u001b[39mlanguage)\n\u001b[1;32m     37\u001b[0m     all_concatenated_sentences \u001b[38;5;241m=\u001b[39m []\n",
      "Cell \u001b[0;32mIn[1], line 5\u001b[0m, in \u001b[0;36msplit_text_into_paragraphs\u001b[0;34m(text)\u001b[0m\n\u001b[1;32m      4\u001b[0m \u001b[38;5;28;01mdef\u001b[39;00m \u001b[38;5;21msplit_text_into_paragraphs\u001b[39m(text):\n\u001b[0;32m----> 5\u001b[0m     \u001b[38;5;28;01mreturn\u001b[39;00m \u001b[43mtext\u001b[49m\u001b[38;5;241;43m.\u001b[39;49m\u001b[43msplit\u001b[49m(\u001b[38;5;124m'\u001b[39m\u001b[38;5;130;01m\\n\u001b[39;00m\u001b[38;5;130;01m\\n\u001b[39;00m\u001b[38;5;124m'\u001b[39m)\n",
      "\u001b[0;31mAttributeError\u001b[0m: 'list' object has no attribute 'split'"
     ]
    }
   ],
   "source": [
    "a = process_text([paragraph_1], 'english')"
   ]
  },
  {
   "cell_type": "code",
   "execution_count": 6,
   "metadata": {},
   "outputs": [
    {
     "data": {
      "text/plain": [
       "'The quick brown fox jumps over the lazy dog. If this were a real emergency, you would be instructed where to go and what to do. If this were a real emergency, you would be instructed where to go and what to do. If this were a real emergency, you would be instructed where to go and what to do.'"
      ]
     },
     "execution_count": 6,
     "metadata": {},
     "output_type": "execute_result"
    }
   ],
   "source": [
    "a[0][0]"
   ]
  }
 ],
 "metadata": {
  "kernelspec": {
   "display_name": "kf-3.9",
   "language": "python",
   "name": "python3"
  },
  "language_info": {
   "codemirror_mode": {
    "name": "ipython",
    "version": 3
   },
   "file_extension": ".py",
   "mimetype": "text/x-python",
   "name": "python",
   "nbconvert_exporter": "python",
   "pygments_lexer": "ipython3",
   "version": "3.9.18"
  }
 },
 "nbformat": 4,
 "nbformat_minor": 2
}

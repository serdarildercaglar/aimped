{
 "cells": [
  {
   "cell_type": "code",
   "execution_count": 1,
   "metadata": {},
   "outputs": [],
   "source": [
    "from decouple import config\n",
    "from aimped.utils import process_payload\n",
    "from aimped.s3_file_manager import S3FileManager\n"
   ]
  },
  {
   "cell_type": "code",
   "execution_count": 2,
   "metadata": {},
   "outputs": [
    {
     "ename": "UndefinedValueError",
     "evalue": "AWS_ACCESS_KEY_ID not found. Declare it as envvar or define a default value.",
     "output_type": "error",
     "traceback": [
      "\u001b[0;31m---------------------------------------------------------------------------\u001b[0m",
      "\u001b[0;31mUndefinedValueError\u001b[0m                       Traceback (most recent call last)",
      "Cell \u001b[0;32mIn[2], line 2\u001b[0m\n\u001b[1;32m      1\u001b[0m \u001b[38;5;28;01mfrom\u001b[39;00m \u001b[38;5;21;01mdecouple\u001b[39;00m \u001b[38;5;28;01mimport\u001b[39;00m config\n\u001b[0;32m----> 2\u001b[0m aws_access_key_id \u001b[38;5;241m=\u001b[39m \u001b[43mconfig\u001b[49m\u001b[43m(\u001b[49m\u001b[38;5;124;43m'\u001b[39;49m\u001b[38;5;124;43mAWS_ACCESS_KEY_ID\u001b[39;49m\u001b[38;5;124;43m'\u001b[39;49m\u001b[43m)\u001b[49m\n\u001b[1;32m      3\u001b[0m aws_secret_access_key \u001b[38;5;241m=\u001b[39m config(\u001b[38;5;124m'\u001b[39m\u001b[38;5;124mAWS_SECRET_ACCESS_KEY\u001b[39m\u001b[38;5;124m'\u001b[39m)\n\u001b[1;32m      4\u001b[0m bucket_name \u001b[38;5;241m=\u001b[39m config(\u001b[38;5;124m'\u001b[39m\u001b[38;5;124mPRIVATE_BUCKET_NAME\u001b[39m\u001b[38;5;124m'\u001b[39m)\n",
      "File \u001b[0;32m~/miniconda3/envs/kf-3.9/lib/python3.9/site-packages/decouple.py:248\u001b[0m, in \u001b[0;36mAutoConfig.__call__\u001b[0;34m(self, *args, **kwargs)\u001b[0m\n\u001b[1;32m    245\u001b[0m \u001b[38;5;28;01mif\u001b[39;00m \u001b[38;5;129;01mnot\u001b[39;00m \u001b[38;5;28mself\u001b[39m\u001b[38;5;241m.\u001b[39mconfig:\n\u001b[1;32m    246\u001b[0m     \u001b[38;5;28mself\u001b[39m\u001b[38;5;241m.\u001b[39m_load(\u001b[38;5;28mself\u001b[39m\u001b[38;5;241m.\u001b[39msearch_path \u001b[38;5;129;01mor\u001b[39;00m \u001b[38;5;28mself\u001b[39m\u001b[38;5;241m.\u001b[39m_caller_path())\n\u001b[0;32m--> 248\u001b[0m \u001b[38;5;28;01mreturn\u001b[39;00m \u001b[38;5;28;43mself\u001b[39;49m\u001b[38;5;241;43m.\u001b[39;49m\u001b[43mconfig\u001b[49m\u001b[43m(\u001b[49m\u001b[38;5;241;43m*\u001b[39;49m\u001b[43margs\u001b[49m\u001b[43m,\u001b[49m\u001b[43m \u001b[49m\u001b[38;5;241;43m*\u001b[39;49m\u001b[38;5;241;43m*\u001b[39;49m\u001b[43mkwargs\u001b[49m\u001b[43m)\u001b[49m\n",
      "File \u001b[0;32m~/miniconda3/envs/kf-3.9/lib/python3.9/site-packages/decouple.py:107\u001b[0m, in \u001b[0;36mConfig.__call__\u001b[0;34m(self, *args, **kwargs)\u001b[0m\n\u001b[1;32m    103\u001b[0m \u001b[38;5;28;01mdef\u001b[39;00m \u001b[38;5;21m__call__\u001b[39m(\u001b[38;5;28mself\u001b[39m, \u001b[38;5;241m*\u001b[39margs, \u001b[38;5;241m*\u001b[39m\u001b[38;5;241m*\u001b[39mkwargs):\n\u001b[1;32m    104\u001b[0m \u001b[38;5;250m    \u001b[39m\u001b[38;5;124;03m\"\"\"\u001b[39;00m\n\u001b[1;32m    105\u001b[0m \u001b[38;5;124;03m    Convenient shortcut to get.\u001b[39;00m\n\u001b[1;32m    106\u001b[0m \u001b[38;5;124;03m    \"\"\"\u001b[39;00m\n\u001b[0;32m--> 107\u001b[0m     \u001b[38;5;28;01mreturn\u001b[39;00m \u001b[38;5;28;43mself\u001b[39;49m\u001b[38;5;241;43m.\u001b[39;49m\u001b[43mget\u001b[49m\u001b[43m(\u001b[49m\u001b[38;5;241;43m*\u001b[39;49m\u001b[43margs\u001b[49m\u001b[43m,\u001b[49m\u001b[43m \u001b[49m\u001b[38;5;241;43m*\u001b[39;49m\u001b[38;5;241;43m*\u001b[39;49m\u001b[43mkwargs\u001b[49m\u001b[43m)\u001b[49m\n",
      "File \u001b[0;32m~/miniconda3/envs/kf-3.9/lib/python3.9/site-packages/decouple.py:92\u001b[0m, in \u001b[0;36mConfig.get\u001b[0;34m(self, option, default, cast)\u001b[0m\n\u001b[1;32m     90\u001b[0m \u001b[38;5;28;01melse\u001b[39;00m:\n\u001b[1;32m     91\u001b[0m     \u001b[38;5;28;01mif\u001b[39;00m \u001b[38;5;28misinstance\u001b[39m(default, Undefined):\n\u001b[0;32m---> 92\u001b[0m         \u001b[38;5;28;01mraise\u001b[39;00m UndefinedValueError(\u001b[38;5;124m'\u001b[39m\u001b[38;5;132;01m{}\u001b[39;00m\u001b[38;5;124m not found. Declare it as envvar or define a default value.\u001b[39m\u001b[38;5;124m'\u001b[39m\u001b[38;5;241m.\u001b[39mformat(option))\n\u001b[1;32m     94\u001b[0m     value \u001b[38;5;241m=\u001b[39m default\n\u001b[1;32m     96\u001b[0m \u001b[38;5;28;01mif\u001b[39;00m \u001b[38;5;28misinstance\u001b[39m(cast, Undefined):\n",
      "\u001b[0;31mUndefinedValueError\u001b[0m: AWS_ACCESS_KEY_ID not found. Declare it as envvar or define a default value."
     ]
    }
   ],
   "source": [
    "from decouple import config\n",
    "aws_access_key_id = config('AWS_ACCESS_KEY_ID')\n",
    "aws_secret_access_key = config('AWS_SECRET_ACCESS_KEY')\n",
    "bucket_name = config('PRIVATE_BUCKET_NAME')\n",
    "region_name = \"us-east-1\""
   ]
  },
  {
   "cell_type": "code",
   "execution_count": 3,
   "metadata": {},
   "outputs": [],
   "source": [
    "file_manager = S3FileManager(aws_access_key_id, aws_secret_access_key, region_name)\n"
   ]
  },
  {
   "cell_type": "markdown",
   "metadata": {},
   "source": [
    "# Data JSON Test"
   ]
  },
  {
   "cell_type": "code",
   "execution_count": 4,
   "metadata": {},
   "outputs": [
    {
     "data": {
      "text/plain": [
       "['sample text with a date 2020-01-01 and a doctor Dr. John Doe and an age 30 years old',\n",
       " 'Sample text with a date 2020-01-01 and a doctor Dr. John Doe and an age 30 years old']"
      ]
     },
     "execution_count": 4,
     "metadata": {},
     "output_type": "execute_result"
    }
   ],
   "source": [
    "payload = {'text': [\n",
    "          \"sample text with a date 2020-01-01 and a doctor Dr. John Doe and an age 30 years old\", \"Sample text with a date 2020-01-01 and a doctor Dr. John Doe and an age 30 years old\"\n",
    "], 'masked': True, \n",
    "'faked': True, \n",
    "'entity': \n",
    "['DATE', 'DOCTOR', 'AGE'],\n",
    " 'model_id': 17, \n",
    "'user_id': 3097, \n",
    "'unit_price': 0.0}\n",
    "\n",
    "process_payload(payload, file_manager=None)"
   ]
  },
  {
   "cell_type": "code",
   "execution_count": 5,
   "metadata": {},
   "outputs": [
    {
     "ename": "ValueError",
     "evalue": "input must be a list of strings",
     "output_type": "error",
     "traceback": [
      "\u001b[0;31m---------------------------------------------------------------------------\u001b[0m",
      "\u001b[0;31mValueError\u001b[0m                                Traceback (most recent call last)",
      "Cell \u001b[0;32mIn[5], line 12\u001b[0m\n\u001b[1;32m      1\u001b[0m \u001b[38;5;66;03m# input data must be a list of strings\u001b[39;00m\n\u001b[1;32m      2\u001b[0m payload \u001b[38;5;241m=\u001b[39m {\u001b[38;5;124m'\u001b[39m\u001b[38;5;124mtext\u001b[39m\u001b[38;5;124m'\u001b[39m: \n\u001b[1;32m      3\u001b[0m           \u001b[38;5;124m\"\u001b[39m\u001b[38;5;124msample text with a date 2020-01-01 and a doctor Dr. John Doe and an age 30 years old Sample text with a date 2020-01-01 and a doctor Dr. John Doe and an age 30 years old\u001b[39m\u001b[38;5;124m\"\u001b[39m\n\u001b[1;32m      4\u001b[0m , \u001b[38;5;124m'\u001b[39m\u001b[38;5;124mmasked\u001b[39m\u001b[38;5;124m'\u001b[39m: \u001b[38;5;28;01mTrue\u001b[39;00m, \n\u001b[0;32m   (...)\u001b[0m\n\u001b[1;32m      9\u001b[0m \u001b[38;5;124m'\u001b[39m\u001b[38;5;124muser_id\u001b[39m\u001b[38;5;124m'\u001b[39m: \u001b[38;5;241m3097\u001b[39m, \n\u001b[1;32m     10\u001b[0m \u001b[38;5;124m'\u001b[39m\u001b[38;5;124munit_price\u001b[39m\u001b[38;5;124m'\u001b[39m: \u001b[38;5;241m0.0\u001b[39m}\n\u001b[0;32m---> 12\u001b[0m \u001b[43mprocess_payload\u001b[49m\u001b[43m(\u001b[49m\u001b[43mpayload\u001b[49m\u001b[43m,\u001b[49m\u001b[43m \u001b[49m\u001b[43mfile_manager\u001b[49m\u001b[38;5;241;43m=\u001b[39;49m\u001b[38;5;28;43;01mNone\u001b[39;49;00m\u001b[43m)\u001b[49m\n",
      "File \u001b[0;32m~/miniconda3/envs/kf-3.9/lib/python3.9/site-packages/aimped/utils.py:421\u001b[0m, in \u001b[0;36mprocess_payload\u001b[0;34m(payload, file_manager)\u001b[0m\n\u001b[1;32m    418\u001b[0m     \u001b[38;5;28;01mraise\u001b[39;00m \u001b[38;5;167;01mValueError\u001b[39;00m(\u001b[38;5;124m\"\u001b[39m\u001b[38;5;124mNo data found in the payload.\u001b[39m\u001b[38;5;124m\"\u001b[39m)\n\u001b[1;32m    420\u001b[0m \u001b[38;5;28;01mif\u001b[39;00m \u001b[38;5;129;01mnot\u001b[39;00m \u001b[38;5;28misinstance\u001b[39m(input_datas, \u001b[38;5;28mlist\u001b[39m):\n\u001b[0;32m--> 421\u001b[0m     \u001b[38;5;28;01mraise\u001b[39;00m \u001b[38;5;167;01mValueError\u001b[39;00m(\u001b[38;5;124m\"\u001b[39m\u001b[38;5;124minput must be a list of strings\u001b[39m\u001b[38;5;124m\"\u001b[39m)\n\u001b[1;32m    423\u001b[0m data_sources \u001b[38;5;241m=\u001b[39m [determine_data_source(data) \u001b[38;5;28;01mfor\u001b[39;00m data \u001b[38;5;129;01min\u001b[39;00m input_datas]\n\u001b[1;32m    424\u001b[0m model_input \u001b[38;5;241m=\u001b[39m []\n",
      "\u001b[0;31mValueError\u001b[0m: input must be a list of strings"
     ]
    }
   ],
   "source": [
    "# input data must be a list of strings\n",
    "payload = {'text': \n",
    "          \"sample text with a date 2020-01-01 and a doctor Dr. John Doe and an age 30 years old Sample text with a date 2020-01-01 and a doctor Dr. John Doe and an age 30 years old\"\n",
    ", 'masked': True, \n",
    "'faked': True, \n",
    "'entity': \n",
    "['DATE', 'DOCTOR', 'AGE'],\n",
    " 'model_id': 17, \n",
    "'user_id': 3097, \n",
    "'unit_price': 0.0}\n",
    "\n",
    "process_payload(payload, file_manager=None)"
   ]
  },
  {
   "cell_type": "code",
   "execution_count": null,
   "metadata": {},
   "outputs": [
    {
     "ename": "ValueError",
     "evalue": "text key is required in the payload",
     "output_type": "error",
     "traceback": [
      "\u001b[0;31m---------------------------------------------------------------------------\u001b[0m",
      "\u001b[0;31mKeyError\u001b[0m                                  Traceback (most recent call last)",
      "File \u001b[0;32m~/miniconda3/envs/kf-3.9/lib/python3.9/site-packages/aimped/utils.py:411\u001b[0m, in \u001b[0;36mprocess_payload\u001b[0;34m(payload, file_manager)\u001b[0m\n\u001b[1;32m    410\u001b[0m \u001b[38;5;28;01mtry\u001b[39;00m:\n\u001b[0;32m--> 411\u001b[0m     \u001b[38;5;28;01mif\u001b[39;00m \u001b[43mpayload\u001b[49m\u001b[43m[\u001b[49m\u001b[38;5;124;43m\"\u001b[39;49m\u001b[38;5;124;43mtext\u001b[39;49m\u001b[38;5;124;43m\"\u001b[39;49m\u001b[43m]\u001b[49m:\n\u001b[1;32m    412\u001b[0m         \u001b[38;5;28;01mpass\u001b[39;00m\n",
      "\u001b[0;31mKeyError\u001b[0m: 'text'",
      "\nDuring handling of the above exception, another exception occurred:\n",
      "\u001b[0;31mValueError\u001b[0m                                Traceback (most recent call last)",
      "Cell \u001b[0;32mIn[6], line 11\u001b[0m\n\u001b[1;32m      1\u001b[0m payload \u001b[38;5;241m=\u001b[39m {\u001b[38;5;124m'\u001b[39m\u001b[38;5;124mkey\u001b[39m\u001b[38;5;124m'\u001b[39m: [\n\u001b[1;32m      2\u001b[0m           \u001b[38;5;124m\"\u001b[39m\u001b[38;5;124msample text with a date 2020-01-01 and a doctor Dr. John Doe and an age 30 years old\u001b[39m\u001b[38;5;124m\"\u001b[39m, \u001b[38;5;124m\"\u001b[39m\u001b[38;5;124mSample text with a date 2020-01-01 and a doctor Dr. John Doe and an age 30 years old\u001b[39m\u001b[38;5;124m\"\u001b[39m\n\u001b[1;32m      3\u001b[0m ], \u001b[38;5;124m'\u001b[39m\u001b[38;5;124mmasked\u001b[39m\u001b[38;5;124m'\u001b[39m: \u001b[38;5;28;01mTrue\u001b[39;00m, \n\u001b[0;32m   (...)\u001b[0m\n\u001b[1;32m      8\u001b[0m \u001b[38;5;124m'\u001b[39m\u001b[38;5;124muser_id\u001b[39m\u001b[38;5;124m'\u001b[39m: \u001b[38;5;241m3097\u001b[39m, \n\u001b[1;32m      9\u001b[0m \u001b[38;5;124m'\u001b[39m\u001b[38;5;124munit_price\u001b[39m\u001b[38;5;124m'\u001b[39m: \u001b[38;5;241m0.0\u001b[39m}\n\u001b[0;32m---> 11\u001b[0m \u001b[43mprocess_payload\u001b[49m\u001b[43m(\u001b[49m\u001b[43mpayload\u001b[49m\u001b[43m,\u001b[49m\u001b[43m \u001b[49m\u001b[43mfile_manager\u001b[49m\u001b[38;5;241;43m=\u001b[39;49m\u001b[38;5;28;43;01mNone\u001b[39;49;00m\u001b[43m)\u001b[49m\n",
      "File \u001b[0;32m~/miniconda3/envs/kf-3.9/lib/python3.9/site-packages/aimped/utils.py:414\u001b[0m, in \u001b[0;36mprocess_payload\u001b[0;34m(payload, file_manager)\u001b[0m\n\u001b[1;32m    412\u001b[0m         \u001b[38;5;28;01mpass\u001b[39;00m\n\u001b[1;32m    413\u001b[0m \u001b[38;5;28;01mexcept\u001b[39;00m:\n\u001b[0;32m--> 414\u001b[0m     \u001b[38;5;28;01mraise\u001b[39;00m \u001b[38;5;167;01mValueError\u001b[39;00m(\u001b[38;5;124m\"\u001b[39m\u001b[38;5;124mtext key is required in the payload\u001b[39m\u001b[38;5;124m\"\u001b[39m)\n\u001b[1;32m    416\u001b[0m input_datas \u001b[38;5;241m=\u001b[39m payload\u001b[38;5;241m.\u001b[39mget(\u001b[38;5;124m\"\u001b[39m\u001b[38;5;124mtext\u001b[39m\u001b[38;5;124m\"\u001b[39m, \u001b[38;5;28;01mNone\u001b[39;00m)\n\u001b[1;32m    417\u001b[0m \u001b[38;5;28;01mif\u001b[39;00m \u001b[38;5;129;01mnot\u001b[39;00m input_datas:\n",
      "\u001b[0;31mValueError\u001b[0m: text key is required in the payload"
     ]
    }
   ],
   "source": [
    "payload = {'key': [\n",
    "          \"sample text with a date 2020-01-01 and a doctor Dr. John Doe and an age 30 years old\", \"Sample text with a date 2020-01-01 and a doctor Dr. John Doe and an age 30 years old\"\n",
    "], 'masked': True, \n",
    "'faked': True, \n",
    "'entity': \n",
    "['DATE', 'DOCTOR', 'AGE'],\n",
    " 'model_id': 17, \n",
    "'user_id': 3097, \n",
    "'unit_price': 0.0}\n",
    "\n",
    "process_payload(payload, file_manager=None)"
   ]
  },
  {
   "cell_type": "markdown",
   "metadata": {},
   "source": [
    "# Data TXT"
   ]
  },
  {
   "cell_type": "code",
   "execution_count": 6,
   "metadata": {},
   "outputs": [
    {
     "data": {
      "text/plain": [
       "['input_data_folder/6ee1a5b6-9c09-4186-bc02-3afadbce4bf5.txt']"
      ]
     },
     "execution_count": 6,
     "metadata": {},
     "output_type": "execute_result"
    }
   ],
   "source": [
    "# S3 URI\n",
    "s3_uri = \"input/text/model_114/user_3079/20dd919d638_medicalcoding.txt\"\n",
    "payload = {'file_type': \"txt\",\"txt\":[s3_uri], 'masked': True, 'faked': True, 'entity': ['DATE', 'DOCTOR', 'AGE'], 'model_id': 17, 'user_id': 3097, 'unit_price': 0.0}\n",
    "process_payload(payload, file_manager=file_manager)"
   ]
  },
  {
   "cell_type": "code",
   "execution_count": 7,
   "metadata": {},
   "outputs": [
    {
     "data": {
      "text/plain": [
       "['input_data_folder/75258407-6ad1-4ff3-a205-d9ff53ce99d6.txt']"
      ]
     },
     "execution_count": 7,
     "metadata": {},
     "output_type": "execute_result"
    }
   ],
   "source": [
    "# URL\n",
    "url = \"https://filesampleshub.com/download/document/txt/sample1.txt\"\n",
    "payload = {'file_type': \"txt\",\"txt\":[url], 'masked': True, 'faked': True, 'entity': ['DATE', 'DOCTOR', 'AGE'], 'model_id': 17, 'user_id': 3097, 'unit_price': 0.0}\n",
    "process_payload(payload, file_manager=file_manager)"
   ]
  },
  {
   "cell_type": "code",
   "execution_count": 10,
   "metadata": {},
   "outputs": [
    {
     "data": {
      "text/plain": [
       "['input_data_folder/38c3f257-335d-46fb-91b1-44d793383d63.txt']"
      ]
     },
     "execution_count": 10,
     "metadata": {},
     "output_type": "execute_result"
    }
   ],
   "source": [
    "text = \"This is a sample text with a date 2020-01-01 and a doctor Dr. John Doe and an age 30 years old\"\n",
    "import base64\n",
    "base64_text = base64.b64encode(text.encode()).decode()\n",
    "payload = {'file_type': \"txt\",\"txt\":[base64_text], 'masked': True, 'faked': True, 'entity': ['DATE', 'DOCTOR', 'AGE'], 'model_id': 17, 'user_id': 3097, 'unit_price': 0.0}\n",
    "process_payload(payload, file_manager=file_manager)"
   ]
  },
  {
   "cell_type": "code",
   "execution_count": 9,
   "metadata": {},
   "outputs": [
    {
     "data": {
      "text/plain": [
       "['input_data_folder/38e41736-94a2-448e-8681-bc7ae17bbe5e.txt']"
      ]
     },
     "execution_count": 9,
     "metadata": {},
     "output_type": "execute_result"
    }
   ],
   "source": [
    "# local file\n",
    "file_path = \"input_data_folder/38e41736-94a2-448e-8681-bc7ae17bbe5e.txt\"\n",
    "payload = {'file_type': \"txt\",\"txt\":[file_path], 'masked': True, 'faked': True, 'entity': ['DATE', 'DOCTOR', 'AGE'], 'model_id': 17, 'user_id': 3097, 'unit_price': 0.0}\n",
    "process_payload(payload, file_manager=file_manager)"
   ]
  },
  {
   "cell_type": "code",
   "execution_count": 11,
   "metadata": {},
   "outputs": [
    {
     "data": {
      "text/plain": [
       "['input_data_folder/38e41736-94a2-448e-8681-bc7ae17bbe5e.txt',\n",
       " 'input_data_folder/95864c64-689e-4bb5-b15a-fb8367c83285.txt',\n",
       " 'input_data_folder/d3129149-3384-4b04-9fe1-ccbcd4b3c167.txt']"
      ]
     },
     "execution_count": 11,
     "metadata": {},
     "output_type": "execute_result"
    }
   ],
   "source": [
    "# local file base64 and url test\n",
    "payload = {'file_type': \"txt\",\"txt\":[file_path, base64_text, url], 'masked': True, 'faked': True, 'entity': ['DATE', 'DOCTOR', 'AGE'], 'model_id': 17, 'user_id': 3097, 'unit_price': 0.0}\n",
    "process_payload(payload, file_manager=file_manager)"
   ]
  },
  {
   "cell_type": "markdown",
   "metadata": {},
   "source": [
    "# data PDF"
   ]
  },
  {
   "cell_type": "code",
   "execution_count": 13,
   "metadata": {},
   "outputs": [
    {
     "data": {
      "text/plain": [
       "['input_data_folder/6e3815b1-659e-4c8d-a725-1ddfd21df171.pdf',\n",
       " 'input_data_folder/9d05b4aa-f6b5-45bf-b135-7c1db8c980fa.pdf',\n",
       " 'input_data_folder/685175bf-75d3-4517-a423-459ec67bc204.pdf']"
      ]
     },
     "execution_count": 13,
     "metadata": {},
     "output_type": "execute_result"
    }
   ],
   "source": [
    "# S3 URI\n",
    "s3_uri = \"input/application/model_1/user_3092/563fb7c6780_28283823_2303236616.pdf\"\n",
    "payload = {'file_type': \"pdf\",\"pdf\":[s3_uri]*3, 'masked': True, 'faked': True, 'entity': ['DATE', 'DOCTOR', 'AGE'], 'model_id': 17, 'user_id': 3097, 'unit_price': 0.0}\n",
    "process_payload(payload, file_manager=file_manager)"
   ]
  },
  {
   "cell_type": "code",
   "execution_count": 18,
   "metadata": {},
   "outputs": [
    {
     "data": {
      "text/plain": [
       "['input_data_folder/b3062400-6422-4c89-86b8-392e9433e673.pdf']"
      ]
     },
     "execution_count": 18,
     "metadata": {},
     "output_type": "execute_result"
    }
   ],
   "source": [
    "# URL\n",
    "url = \"https://pdfobject.com/pdf/sample.pdf\"\n",
    "payload = {'file_type': \"pdf\",\"pdf\":[url], 'masked': True, 'faked': True, 'entity': ['DATE', 'DOCTOR', 'AGE'], 'model_id': 17, 'user_id': 3097, 'unit_price': 0.0}\n",
    "process_payload(payload, file_manager=file_manager)"
   ]
  },
  {
   "cell_type": "code",
   "execution_count": 20,
   "metadata": {},
   "outputs": [
    {
     "data": {
      "text/plain": [
       "['input_data_folder/test.pdf', 'input_data_folder/test.pdf']"
      ]
     },
     "execution_count": 20,
     "metadata": {},
     "output_type": "execute_result"
    }
   ],
   "source": [
    "# local file\n",
    "file_path = \"input_data_folder/test.pdf\"\n",
    "payload = {'file_type': \"pdf\",\"pdf\":[file_path]*2, 'masked': True, 'faked': True, 'entity': ['DATE', 'DOCTOR', 'AGE'], 'model_id': 17, 'user_id': 3097, 'unit_price': 0.0}\n",
    "process_payload(payload, file_manager=file_manager)"
   ]
  },
  {
   "cell_type": "code",
   "execution_count": 21,
   "metadata": {},
   "outputs": [
    {
     "data": {
      "text/plain": [
       "['input_data_folder/04fc4a37-c32b-414e-bceb-8c1b1d0eb771.pdf']"
      ]
     },
     "execution_count": 21,
     "metadata": {},
     "output_type": "execute_result"
    }
   ],
   "source": [
    "# base64\n",
    "import base64\n",
    "with open(file_path, \"rb\") as file:\n",
    "    base64_pdf = base64.b64encode(file.read()).decode()\n",
    "payload = {'file_type': \"pdf\",\"pdf\":[base64_pdf], 'masked': True, 'faked': True, 'entity': ['DATE', 'DOCTOR', 'AGE'], 'model_id': 17, 'user_id': 3097, 'unit_price': 0.0}\n",
    "process_payload(payload, file_manager=file_manager)"
   ]
  }
 ],
 "metadata": {
  "kernelspec": {
   "display_name": "kf-3.9",
   "language": "python",
   "name": "python3"
  },
  "language_info": {
   "codemirror_mode": {
    "name": "ipython",
    "version": 3
   },
   "file_extension": ".py",
   "mimetype": "text/x-python",
   "name": "python",
   "nbconvert_exporter": "python",
   "pygments_lexer": "ipython3",
   "version": "3.9.18"
  }
 },
 "nbformat": 4,
 "nbformat_minor": 2
}

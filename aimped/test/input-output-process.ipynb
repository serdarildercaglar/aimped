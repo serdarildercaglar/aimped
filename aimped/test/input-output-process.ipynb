{
 "cells": [
  {
   "cell_type": "code",
   "execution_count": 5,
   "metadata": {},
   "outputs": [],
   "source": [
    "from aimped.utils import ProcessOutput\n",
    "\n",
    "process_output = ProcessOutput()"
   ]
  },
  {
   "cell_type": "code",
   "execution_count": 2,
   "metadata": {},
   "outputs": [
    {
     "name": "stdout",
     "output_type": "stream",
     "text": [
      "Dosya bulunamadı: test.txt\n"
     ]
    }
   ],
   "source": [
    "ProcessOutput.file_to_base64('test.txt')"
   ]
  }
 ],
 "metadata": {
  "kernelspec": {
   "display_name": "kf-3.9",
   "language": "python",
   "name": "python3"
  },
  "language_info": {
   "codemirror_mode": {
    "name": "ipython",
    "version": 3
   },
   "file_extension": ".py",
   "mimetype": "text/x-python",
   "name": "python",
   "nbconvert_exporter": "python",
   "pygments_lexer": "ipython3",
   "version": "3.9.18"
  }
 },
 "nbformat": 4,
 "nbformat_minor": 2
}
